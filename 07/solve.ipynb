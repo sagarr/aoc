{
 "cells": [
  {
   "cell_type": "markdown",
   "metadata": {},
   "source": [
    "# Part 1"
   ]
  },
  {
   "cell_type": "code",
   "execution_count": null,
   "metadata": {},
   "outputs": [],
   "source": [
    "equation  = []\n",
    "with open('input.txt') as f:\n",
    "    for line in  f.read().splitlines():\n",
    "      val, numbers = line.split(\":\")\n",
    "      equation.append((int(val), [int(n) for n in numbers.split()]))"
   ]
  },
  {
   "cell_type": "code",
   "execution_count": null,
   "metadata": {},
   "outputs": [],
   "source": [
    "def next_op(op):\n",
    "  if op == '+':\n",
    "    return '*'\n",
    "  else:\n",
    "    return '+'\n",
    "\n",
    "def exec(op, a, b):\n",
    "  if op == '+':\n",
    "    return a + b\n",
    "  else:\n",
    "    if a == 0:\n",
    "      return b\n",
    "    elif b == 0:\n",
    "      return a\n",
    "    else:\n",
    "      return a * b\n",
    "\n",
    "def dp(i, op, nums, res, exp, cache):\n",
    "  if (i, op, res) in cache:\n",
    "    return cache[(i, op, res)]\n",
    "\n",
    "  if res == exp:\n",
    "    cache[(i, op, res)] = True\n",
    "    return True\n",
    "\n",
    "  if i >= len(nums):\n",
    "    cache[(i, op, res)] = False\n",
    "    return False\n",
    "\n",
    "  # continue with current operator\n",
    "  res1 = exec(op, res, nums[i])\n",
    "  a = dp(i+1, op, nums, res1, exp, cache)\n",
    "  # try with next operator\n",
    "  op = next_op(op)\n",
    "  res2 = exec(op, res, nums[i])\n",
    "  b = dp(i+1, op, nums, res2, exp, cache)\n",
    "\n",
    "  r = a or b\n",
    "  cache[(i, op, res)] = r\n",
    "  return r\n",
    "\n",
    "test_values_sum = 0\n",
    "for val, nums in equation:\n",
    "  if dp(0, '+', nums, 0, val, {}):\n",
    "    test_values_sum += val"
   ]
  },
  {
   "cell_type": "markdown",
   "metadata": {},
   "source": [
    "# Part 2"
   ]
  },
  {
   "cell_type": "code",
   "execution_count": null,
   "metadata": {},
   "outputs": [],
   "source": [
    "def exec(op, a, b):\n",
    "  if op == '+':\n",
    "    return a + b\n",
    "  elif op == '*':\n",
    "    if a == 0:\n",
    "      return b\n",
    "    elif b == 0:\n",
    "      return a\n",
    "    else:\n",
    "      return a * b\n",
    "  else:\n",
    "    # concatenate 2 integers a and b\n",
    "    return int(str(a) + str(b))\n",
    "\n",
    "ops = ['+', '*', '||']\n",
    "\n",
    "def dp(i, j, nums, res, exp, cache):\n",
    "  if (i, j, res) in cache:\n",
    "    return cache[(i, j, res)]\n",
    "\n",
    "  if res == exp:\n",
    "    cache[(i, j, res)] = True\n",
    "    return True\n",
    "\n",
    "  if i >= len(nums):\n",
    "    cache[(i, j, res)] = False\n",
    "    return False\n",
    "\n",
    "  # continue with current operator\n",
    "  res1 = exec(ops[j], res, nums[i])\n",
    "  a = dp(i+1, j, nums, res1, exp, cache)\n",
    "\n",
    "  # try with next operator\n",
    "  b = False\n",
    "  for k in range(len(ops)):\n",
    "    if k == j:\n",
    "      continue\n",
    "    res2 = exec(ops[k], res, nums[i])\n",
    "    b = b or dp(i+1, k, nums, res2, exp, cache)\n",
    "\n",
    "  r = a or b\n",
    "  cache[(i, j, res)] = r\n",
    "  return r\n",
    "\n",
    "test_values_sum = 0\n",
    "for val, nums in equation:\n",
    "  res = dp(0, 0, nums, 0, val, {})\n",
    "  if res:\n",
    "    test_values_sum += val\n",
    "test_values_sum"
   ]
  }
 ],
 "metadata": {
  "kernelspec": {
   "display_name": "Python 3",
   "language": "python",
   "name": "python3"
  },
  "language_info": {
   "codemirror_mode": {
    "name": "ipython",
    "version": 3
   },
   "file_extension": ".py",
   "mimetype": "text/x-python",
   "name": "python",
   "nbconvert_exporter": "python",
   "pygments_lexer": "ipython3",
   "version": "3.10.16"
  }
 },
 "nbformat": 4,
 "nbformat_minor": 2
}
