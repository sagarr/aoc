{
 "cells": [
  {
   "cell_type": "markdown",
   "metadata": {},
   "source": [
    "# Part 1"
   ]
  },
  {
   "cell_type": "code",
   "execution_count": 37,
   "metadata": {},
   "outputs": [],
   "source": [
    "with open('input.txt', 'r') as f:\n",
    "    page_order, pages = f.read().split(\"\\n\\n\")"
   ]
  },
  {
   "cell_type": "code",
   "execution_count": 38,
   "metadata": {},
   "outputs": [],
   "source": [
    "from collections import defaultdict\n",
    "\n",
    "graph = defaultdict(set)\n",
    "\n",
    "for order in page_order.splitlines():\n",
    "  p1, p2 = order.split(\"|\")\n",
    "  graph[p1].add(p2)\n"
   ]
  },
  {
   "cell_type": "code",
   "execution_count": 39,
   "metadata": {},
   "outputs": [
    {
     "data": {
      "text/plain": [
       "4790"
      ]
     },
     "execution_count": 39,
     "metadata": {},
     "output_type": "execute_result"
    }
   ],
   "source": [
    "def traverse(i, page):\n",
    "  if i == len(page)-1:\n",
    "    return True\n",
    "\n",
    "  p = page[i]\n",
    "\n",
    "  if page[i+1] in graph[p]:\n",
    "    return traverse(i+1, page)\n",
    "\n",
    "  return False\n",
    "\n",
    "total = 0\n",
    "\n",
    "for page in pages.splitlines():\n",
    "  page = page.split(',')\n",
    "  if traverse(0, page):\n",
    "    m = len(page)//2\n",
    "    total += int(page[m])\n",
    "\n",
    "total"
   ]
  },
  {
   "cell_type": "markdown",
   "metadata": {},
   "source": [
    "# Part 2"
   ]
  },
  {
   "cell_type": "code",
   "execution_count": 41,
   "metadata": {},
   "outputs": [
    {
     "name": "stdout",
     "output_type": "stream",
     "text": [
      "6319\n"
     ]
    }
   ],
   "source": [
    "from collections import defaultdict\n",
    "\n",
    "\n",
    "ps = [l.split() for l in open(\"input.txt\").read().split(\"\\n\\n\")]\n",
    "order = defaultdict(list)\n",
    "\n",
    "for update_str in ps[0]:\n",
    "    update = update_str.split(\"|\")\n",
    "    order[int(update[0])].append(int(update[1]))\n",
    "\n",
    "s = 0\n",
    "\n",
    "for update_str in ps[1]:\n",
    "    update = list(map(int, update_str.split(\",\")))\n",
    "\n",
    "    if not all(\n",
    "        page2 in order[page]\n",
    "        for i, page in enumerate(update)\n",
    "        for i2, page2 in enumerate(update)\n",
    "        if i2 > i\n",
    "    ):\n",
    "\n",
    "        new_list = []\n",
    "        to_sort = set(update)\n",
    "        while to_sort:\n",
    "            for n in to_sort:\n",
    "                if all(n2 in order[n] for n2 in to_sort if n2 != n):\n",
    "                    new_list.append(n)\n",
    "                    to_sort.remove(n)\n",
    "                    break\n",
    "\n",
    "        s += new_list[len(new_list) // 2]\n",
    "\n",
    "print(s)\n"
   ]
  },
  {
   "cell_type": "markdown",
   "metadata": {},
   "source": []
  }
 ],
 "metadata": {
  "kernelspec": {
   "display_name": "Python 3",
   "language": "python",
   "name": "python3"
  },
  "language_info": {
   "codemirror_mode": {
    "name": "ipython",
    "version": 3
   },
   "file_extension": ".py",
   "mimetype": "text/x-python",
   "name": "python",
   "nbconvert_exporter": "python",
   "pygments_lexer": "ipython3",
   "version": "3.10.16"
  }
 },
 "nbformat": 4,
 "nbformat_minor": 2
}
