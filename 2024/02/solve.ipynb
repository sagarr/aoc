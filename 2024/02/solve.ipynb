{
 "cells": [
  {
   "cell_type": "markdown",
   "metadata": {},
   "source": [
    "# Part 1"
   ]
  },
  {
   "cell_type": "code",
   "execution_count": 20,
   "metadata": {},
   "outputs": [
    {
     "name": "stdout",
     "output_type": "stream",
     "text": [
      "2\n"
     ]
    }
   ],
   "source": [
    "def safe(levels):\n",
    "  diff = abs(levels[0] - levels[1])\n",
    "  if diff < 1 or diff > 3:\n",
    "    return False\n",
    "\n",
    "  increasing = levels[0] < levels[1]\n",
    "  for i in range(len(levels)-1):\n",
    "    diff = abs(levels[i]-levels[i+1])\n",
    "    if diff < 1 or diff > 3:\n",
    "      return False\n",
    "\n",
    "    if increasing:\n",
    "      if levels[i] > levels[i+1]:\n",
    "        return False\n",
    "    else:\n",
    "      if levels[i] < levels[i+1]:\n",
    "        return False\n",
    "\n",
    "  return True\n",
    "\n",
    "result = 0\n",
    "with open('input.txt', 'r') as f:\n",
    "    lines = f.read().splitlines()\n",
    "    for line in lines:\n",
    "      levels = [int(x) for x in line.split()]\n",
    "      if safe(levels):\n",
    "        result+=1\n",
    "print(result)\n"
   ]
  },
  {
   "cell_type": "markdown",
   "metadata": {},
   "source": [
    "# Part 2"
   ]
  },
  {
   "cell_type": "code",
   "execution_count": 23,
   "metadata": {},
   "outputs": [
    {
     "name": "stdout",
     "output_type": "stream",
     "text": [
      "604\n"
     ]
    }
   ],
   "source": [
    "def safe(levels):\n",
    "  diff = abs(levels[0] - levels[1])\n",
    "  if diff < 1 or diff > 3:\n",
    "    return False\n",
    "\n",
    "  increasing = levels[0] < levels[1]\n",
    "\n",
    "  for i in range(len(levels)-1):\n",
    "    diff = abs(levels[i]-levels[i+1])\n",
    "    if diff < 1 or diff > 3:\n",
    "      return False\n",
    "\n",
    "    if increasing:\n",
    "      if levels[i] > levels[i+1]:\n",
    "        return False\n",
    "    else:\n",
    "      if levels[i] < levels[i+1]:\n",
    "        return False\n",
    "\n",
    "  return True\n",
    "\n",
    "result = 0\n",
    "with open('input.txt', 'r') as f:\n",
    "    lines = f.read().splitlines()\n",
    "    for line in lines:\n",
    "      levels = [int(x) for x in line.split()]\n",
    "      if safe(levels):\n",
    "        result+=1\n",
    "      else:\n",
    "        for i in range(len(levels)):\n",
    "          if safe(levels[:i] + levels[i+1:]):\n",
    "            result+=1\n",
    "            break\n",
    "\n",
    "print(result)\n"
   ]
  }
 ],
 "metadata": {
  "kernelspec": {
   "display_name": "Python 3",
   "language": "python",
   "name": "python3"
  },
  "language_info": {
   "codemirror_mode": {
    "name": "ipython",
    "version": 3
   },
   "file_extension": ".py",
   "mimetype": "text/x-python",
   "name": "python",
   "nbconvert_exporter": "python",
   "pygments_lexer": "ipython3",
   "version": "3.10.12"
  }
 },
 "nbformat": 4,
 "nbformat_minor": 2
}
