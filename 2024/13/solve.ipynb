{
 "cells": [
  {
   "cell_type": "markdown",
   "metadata": {},
   "source": [
    "# Part 1"
   ]
  },
  {
   "cell_type": "code",
   "execution_count": 19,
   "metadata": {},
   "outputs": [],
   "source": [
    "import re\n",
    "\n",
    "buttons = [] # (A, B, Prize)\n",
    "\n",
    "with open('input.txt') as f:\n",
    "    data = f.read().strip().split(\"\\n\\n\")\n",
    "    for eqs in data:\n",
    "      e = []\n",
    "      for eq in eqs.split(\"\\n\"):\n",
    "        g = re.search(r'X\\+(\\d+), Y\\+(\\d+)', eq)\n",
    "        if g:\n",
    "          e.append(tuple(map(int, g.groups())))\n",
    "        else:\n",
    "          g = re.search(r'X=(\\d+), Y=(\\d+)', eq)\n",
    "          e.append(tuple(map(int, g.groups())))\n",
    "      buttons.append(e)"
   ]
  },
  {
   "cell_type": "code",
   "execution_count": 20,
   "metadata": {},
   "outputs": [],
   "source": [
    "def solve_linear_equations_integer(a1, b1, c1, a2, b2, c2):\n",
    "  det = a1 * b2 - a2 * b1\n",
    "\n",
    "  # Check if the determinant is non-zero (to avoid division by zero)\n",
    "  if det == 0:\n",
    "    return None  # No unique solution\n",
    "\n",
    "  # Calculate the solutions using Cramer's rule\n",
    "  x = (c1 * b2 - c2 * b1) // det\n",
    "  y = (a1 * c2 - a2 * c1) // det\n",
    "\n",
    "  # Check if the solutions are integers\n",
    "  if x * det != c1 * b2 - c2 * b1 or y * det != a1 * c2 - a2 * c1:\n",
    "    return None, None  # Not integer solutions\n",
    "\n",
    "  return x, y"
   ]
  },
  {
   "cell_type": "code",
   "execution_count": 21,
   "metadata": {},
   "outputs": [
    {
     "name": "stdout",
     "output_type": "stream",
     "text": [
      "26005\n"
     ]
    }
   ],
   "source": [
    "min_tokens = 0\n",
    "\n",
    "for button in buttons:\n",
    "  a1, a2 = button[0]\n",
    "  b1, b2 = button[1]\n",
    "  c1, c2 = button[2]\n",
    "  a, b = solve_linear_equations_integer(a1, b1, c1, a2, b2, c2)\n",
    "  if a is not None and b is not None:\n",
    "    min_tokens += a*3+b*1\n",
    "\n",
    "print(min_tokens)"
   ]
  },
  {
   "cell_type": "markdown",
   "metadata": {},
   "source": [
    "# Part 2"
   ]
  },
  {
   "cell_type": "code",
   "execution_count": 22,
   "metadata": {},
   "outputs": [],
   "source": [
    "import re\n",
    "\n",
    "buttons = [] # (A, B, Prize)\n",
    "\n",
    "with open('input.txt') as f:\n",
    "    data = f.read().strip().split(\"\\n\\n\")\n",
    "    for eqs in data:\n",
    "      e = []\n",
    "      for eq in eqs.split(\"\\n\"):\n",
    "        g = re.search(r'X\\+(\\d+), Y\\+(\\d+)', eq)\n",
    "        if g:\n",
    "          e.append(tuple(map(int, g.groups())))\n",
    "        else:\n",
    "          g = re.search(r'X=(\\d+), Y=(\\d+)', eq)\n",
    "          e.append(tuple(map(int, g.groups())))\n",
    "      buttons.append(e)"
   ]
  },
  {
   "cell_type": "code",
   "execution_count": 23,
   "metadata": {},
   "outputs": [
    {
     "name": "stdout",
     "output_type": "stream",
     "text": [
      "105620095782547\n"
     ]
    }
   ],
   "source": [
    "min_tokens = 0\n",
    "\n",
    "for button in buttons:\n",
    "  a1, a2 = button[0]\n",
    "  b1, b2 = button[1]\n",
    "  c1, c2 = button[2]\n",
    "\n",
    "  c1+=10000000000000\n",
    "  c2+=10000000000000\n",
    "\n",
    "  a, b = solve_linear_equations_integer(a1, b1, c1, a2, b2, c2)\n",
    "  if a is not None and b is not None:\n",
    "    min_tokens += a*3+b*1\n",
    "\n",
    "print(min_tokens)"
   ]
  }
 ],
 "metadata": {
  "kernelspec": {
   "display_name": "Python 3",
   "language": "python",
   "name": "python3"
  },
  "language_info": {
   "codemirror_mode": {
    "name": "ipython",
    "version": 3
   },
   "file_extension": ".py",
   "mimetype": "text/x-python",
   "name": "python",
   "nbconvert_exporter": "python",
   "pygments_lexer": "ipython3",
   "version": "3.10.16"
  }
 },
 "nbformat": 4,
 "nbformat_minor": 2
}
