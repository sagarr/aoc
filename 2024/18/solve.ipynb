{
 "cells": [
  {
   "cell_type": "markdown",
   "metadata": {},
   "source": [
    "# Part 1"
   ]
  },
  {
   "cell_type": "code",
   "execution_count": null,
   "metadata": {},
   "outputs": [],
   "source": [
    "falling_bytes = []\n",
    "\n",
    "with open(\"input.txt\") as f:\n",
    "    for line in f.readlines():\n",
    "        falling_bytes.append(tuple(map(int, line.strip().split(\",\"))))\n",
    "\n",
    "print(falling_bytes)"
   ]
  },
  {
   "cell_type": "code",
   "execution_count": null,
   "metadata": {},
   "outputs": [],
   "source": [
    "import heapq\n",
    "\n",
    "def bfs(bytes):\n",
    "    heap = [(0, 0, 0)] # steps, x, y\n",
    "    visited = set()\n",
    "\n",
    "    while heap:\n",
    "        steps, x, y = heapq.heappop(heap)\n",
    "        if (x, y) in visited:\n",
    "            continue\n",
    "        visited.add((x, y))\n",
    "\n",
    "        if x == ex and y == ey:\n",
    "            return steps\n",
    "\n",
    "        for dx, dy in [(0, 1), (0, -1), (1, 0), (-1, 0)]:\n",
    "            nx, ny = x + dx, y + dy\n",
    "            if nx < 0 or ny < 0 or nx > ex or ny > ey:\n",
    "                continue\n",
    "            if (nx, ny) in bytes:\n",
    "                continue\n",
    "            heapq.heappush(heap, (steps + 1, nx, ny))\n",
    "\n",
    "    return float('inf')\n",
    "\n",
    "first_bytes = 1024\n",
    "ex, ey = 70, 70\n",
    "bytes = set(falling_bytes[:first_bytes])\n",
    "bfs(bytes)"
   ]
  },
  {
   "cell_type": "markdown",
   "metadata": {},
   "source": [
    "# Part 2"
   ]
  },
  {
   "cell_type": "code",
   "execution_count": null,
   "metadata": {},
   "outputs": [],
   "source": [
    "\n",
    "for byte in falling_bytes[first_bytes:]:\n",
    "  bytes.add(byte)\n",
    "  if bfs(bytes) == float('inf'):\n",
    "    print(byte)\n",
    "    break\n"
   ]
  }
 ],
 "metadata": {
  "kernelspec": {
   "display_name": "Python 3",
   "language": "python",
   "name": "python3"
  },
  "language_info": {
   "codemirror_mode": {
    "name": "ipython",
    "version": 3
   },
   "file_extension": ".py",
   "mimetype": "text/x-python",
   "name": "python",
   "nbconvert_exporter": "python",
   "pygments_lexer": "ipython3",
   "version": "3.10.16"
  }
 },
 "nbformat": 4,
 "nbformat_minor": 2
}
