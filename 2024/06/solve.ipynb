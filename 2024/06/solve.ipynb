{
 "cells": [
  {
   "cell_type": "markdown",
   "metadata": {},
   "source": [
    "# Part 1"
   ]
  },
  {
   "cell_type": "code",
   "execution_count": 64,
   "metadata": {},
   "outputs": [],
   "source": [
    "grid = []\n",
    "\n",
    "with open('input.txt') as f:\n",
    "  for line in f.read().splitlines():\n",
    "    grid.append(list(line))\n",
    "\n",
    "R, C = len(grid), len(grid[0])"
   ]
  },
  {
   "cell_type": "code",
   "execution_count": 65,
   "metadata": {},
   "outputs": [],
   "source": [
    "def find_starting_pos():\n",
    "  for x in range(R):\n",
    "    for y in range(C):\n",
    "      if grid[x][y] == '^':\n",
    "        return x, y\n",
    "\n",
    "sx, sy = find_starting_pos()"
   ]
  },
  {
   "cell_type": "code",
   "execution_count": 66,
   "metadata": {},
   "outputs": [
    {
     "data": {
      "text/plain": [
       "4789"
      ]
     },
     "execution_count": 66,
     "metadata": {},
     "output_type": "execute_result"
    }
   ],
   "source": [
    "def turn_90_degree(r, c, dir):\n",
    "  if dir == \"UP\":\n",
    "    return r+1, c, \"RT\"\n",
    "  if dir == \"DN\":\n",
    "    return r-1, c, \"LT\"\n",
    "  if dir == \"RT\":\n",
    "    return r, c-1, \"DN\"\n",
    "  return r, c+1, \"UP\"\n",
    "\n",
    "\n",
    "stack = [(sx, sy, \"UP\")]\n",
    "path = set()\n",
    "\n",
    "while stack:\n",
    "  r, c, dir = stack.pop()\n",
    "\n",
    "  if r < 0 or r >= R or c < 0 or c >= C:\n",
    "    break\n",
    "\n",
    "  if grid[r][c] == '#':\n",
    "    r, c, dir = turn_90_degree(r, c, dir)\n",
    "  path.add((r, c))\n",
    "\n",
    "  if dir == \"UP\":\n",
    "      stack.append((r-1, c, dir))\n",
    "  elif dir == \"DN\":\n",
    "      stack.append((r+1, c, dir))\n",
    "  elif dir == \"LT\":\n",
    "      stack.append((r, c-1, dir))\n",
    "  elif dir == \"RT\":\n",
    "      stack.append((r, c+1, dir))\n",
    "\n",
    "len(path)"
   ]
  },
  {
   "cell_type": "markdown",
   "metadata": {},
   "source": [
    "# Part 2"
   ]
  },
  {
   "cell_type": "code",
   "execution_count": 67,
   "metadata": {},
   "outputs": [
    {
     "data": {
      "text/plain": [
       "1304"
      ]
     },
     "execution_count": 67,
     "metadata": {},
     "output_type": "execute_result"
    }
   ],
   "source": [
    "def find_loop(r, c, path):\n",
    "  stack = [(sx, sy, \"UP\")]\n",
    "\n",
    "  while stack:\n",
    "    r, c, dir = stack.pop()\n",
    "\n",
    "    if r < 0 or r >= R or c < 0 or c >= C:\n",
    "      break\n",
    "\n",
    "    if (r, c) in path:\n",
    "       return True\n",
    "\n",
    "    if grid[r][c] == '#':\n",
    "      r, c, dir = turn_90_degree(r, c, dir)\n",
    "      if ((r, c, dir)) in path:\n",
    "         return True\n",
    "      path.add((r, c, dir))\n",
    "\n",
    "    if dir == \"UP\":\n",
    "        stack.append((r-1, c, dir))\n",
    "    elif dir == \"DN\":\n",
    "        stack.append((r+1, c, dir))\n",
    "    elif dir == \"LT\":\n",
    "        stack.append((r, c-1, dir))\n",
    "    elif dir == \"RT\":\n",
    "        stack.append((r, c+1, dir))\n",
    "\n",
    "  return False\n",
    "\n",
    "loops = 0\n",
    "for r, c in path:\n",
    "  grid[r][c] = '#'\n",
    "  if find_loop(r, c, set()):\n",
    "     loops+=1\n",
    "  grid[r][c] = '.'\n",
    "\n",
    "loops"
   ]
  }
 ],
 "metadata": {
  "kernelspec": {
   "display_name": "Python 3",
   "language": "python",
   "name": "python3"
  },
  "language_info": {
   "codemirror_mode": {
    "name": "ipython",
    "version": 3
   },
   "file_extension": ".py",
   "mimetype": "text/x-python",
   "name": "python",
   "nbconvert_exporter": "python",
   "pygments_lexer": "ipython3",
   "version": "3.10.16"
  }
 },
 "nbformat": 4,
 "nbformat_minor": 2
}
