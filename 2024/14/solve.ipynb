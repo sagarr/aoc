{
 "cells": [
  {
   "cell_type": "markdown",
   "metadata": {},
   "source": [
    "# Part 1"
   ]
  },
  {
   "cell_type": "code",
   "execution_count": null,
   "metadata": {},
   "outputs": [],
   "source": [
    "import re\n",
    "\n",
    "robots = []\n",
    "\n",
    "with open(\"input.txt\", \"r\") as f:\n",
    "  lines = f.readlines()\n",
    "  for line in lines:\n",
    "    pc, pr, vr, vd = map(int, re.findall(r'-?\\d+', line))\n",
    "    robots.append((pr, pc, vr, vd))\n",
    "\n",
    "print(robots)"
   ]
  },
  {
   "cell_type": "code",
   "execution_count": null,
   "metadata": {},
   "outputs": [],
   "source": [
    "R, C = 103, 101\n",
    "\n",
    "for _ in range(100):\n",
    "  for i, (pr, pc, vr, vd) in enumerate(robots):\n",
    "\n",
    "    pr += vd\n",
    "    pc += vr\n",
    "\n",
    "    if pr < 0:\n",
    "      pr = R+pr\n",
    "    if pr >= R:\n",
    "      pr = pr-R\n",
    "    if pc < 0:\n",
    "      pc = C+pc\n",
    "    if pc >= C:\n",
    "      pc = pc-C\n",
    "\n",
    "    robots[i] = (pr, pc, vr, vd)\n",
    "\n",
    "print(robots)"
   ]
  },
  {
   "cell_type": "code",
   "execution_count": null,
   "metadata": {},
   "outputs": [],
   "source": [
    "\n",
    "mr = R // 2\n",
    "mc = C // 2\n",
    "\n",
    "q1, q2, q3, q4 = 0, 0, 0, 0\n",
    "\n",
    "for pr, pc, _, _ in robots:\n",
    "  # check in top left quadrant\n",
    "  if pr < mr and pc < mc:\n",
    "    q1+=1\n",
    "  # check in top right quadrant\n",
    "  if pr > mr and pc < mc:\n",
    "    q2+=1\n",
    "  # check in bottom left quadrant\n",
    "  if pr < mr and pc > mc:\n",
    "    q3+=1\n",
    "  # check in bottom right quadrant\n",
    "  if pr > mr and pc > mc:\n",
    "    q4+=1\n",
    "\n",
    "print(q1 * q2 * q3 * q4)"
   ]
  },
  {
   "cell_type": "markdown",
   "metadata": {},
   "source": [
    "# Part 2"
   ]
  },
  {
   "cell_type": "code",
   "execution_count": null,
   "metadata": {},
   "outputs": [],
   "source": [
    "robots = []\n",
    "\n",
    "with open(\"input.txt\", \"r\") as f:\n",
    "  lines = f.readlines()\n",
    "  for line in lines:\n",
    "    pc, pr, vr, vd = map(int, re.findall(r'-?\\d+', line))\n",
    "    robots.append((pr, pc, vr, vd))\n",
    "\n",
    "print(robots)"
   ]
  },
  {
   "cell_type": "code",
   "execution_count": null,
   "metadata": {},
   "outputs": [],
   "source": [
    "R, C = 103, 101"
   ]
  },
  {
   "cell_type": "code",
   "execution_count": null,
   "metadata": {},
   "outputs": [],
   "source": [
    "grid = [['.' for _ in range(C)] for _ in range(R)]\n",
    "\n",
    "def print_grid():\n",
    "    for row in grid:\n",
    "        print(''.join(row))\n",
    "\n",
    "secs = 0\n",
    "\n",
    "for _ in range(10_000):\n",
    "\n",
    "  seen = set()\n",
    "  secs+=1\n",
    "\n",
    "  for i, (pr, pc, vr, vd) in enumerate(robots):\n",
    "    pr += vd\n",
    "    pc += vr\n",
    "\n",
    "    if pr < 0:\n",
    "      pr = R+pr\n",
    "    if pr >= R:\n",
    "      pr = pr-R\n",
    "    if pc < 0:\n",
    "      pc = C+pc\n",
    "    if pc >= C:\n",
    "      pc = pc-C\n",
    "\n",
    "    robots[i] = (pr, pc, vr, vd)\n",
    "    seen.add((pr, pc))\n",
    "\n",
    "  if len(seen) == len(robots):\n",
    "    print(secs)\n",
    "    for r, c, _, _ in robots:\n",
    "      grid[r][c] = '#'\n",
    "    print_grid()\n",
    "    break"
   ]
  },
  {
   "cell_type": "code",
   "execution_count": null,
   "metadata": {},
   "outputs": [],
   "source": []
  }
 ],
 "metadata": {
  "kernelspec": {
   "display_name": "Python 3",
   "language": "python",
   "name": "python3"
  },
  "language_info": {
   "codemirror_mode": {
    "name": "ipython",
    "version": 3
   },
   "file_extension": ".py",
   "mimetype": "text/x-python",
   "name": "python",
   "nbconvert_exporter": "python",
   "pygments_lexer": "ipython3",
   "version": "3.10.16"
  }
 },
 "nbformat": 4,
 "nbformat_minor": 2
}
