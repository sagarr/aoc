{
 "cells": [
  {
   "cell_type": "markdown",
   "metadata": {},
   "source": [
    "# Part 1"
   ]
  },
  {
   "cell_type": "code",
   "execution_count": null,
   "metadata": {},
   "outputs": [],
   "source": [
    "grid =  []\n",
    "\n",
    "with open('input.txt', 'r') as f:\n",
    "    for line in f.read().splitlines():\n",
    "        grid.append(list(line.strip()))\n",
    "\n",
    "R, C = len(grid), len(grid[0])\n",
    "print(grid)"
   ]
  },
  {
   "cell_type": "code",
   "execution_count": null,
   "metadata": {},
   "outputs": [],
   "source": [
    "path = set()\n",
    "\n",
    "def start_pos():\n",
    "    for x in range(R):\n",
    "        for y in range(C):\n",
    "            if grid[x][y] == 'S':\n",
    "                return x, y\n",
    "\n",
    "sx, sy = start_pos()\n",
    "print(sx, sy)"
   ]
  },
  {
   "cell_type": "code",
   "execution_count": null,
   "metadata": {},
   "outputs": [],
   "source": [
    "from collections import deque\n",
    "\n",
    "q = deque([(sx, sy)])\n",
    "visited = set([(sx, sy)])\n",
    "grid[sx][sy] = \".\"\n",
    "dists = {}\n",
    "dists[(sx, sy)] = 0\n",
    "\n",
    "while q:\n",
    "    x, y = q.popleft()\n",
    "    if grid[x][y] == \"E\":\n",
    "        grid[x][y] = \".\"\n",
    "        break\n",
    "\n",
    "    for dx, dy in [(0, 1), (0, -1), (1, 0), (-1, 0)]:\n",
    "        nx, ny = x + dx, y + dy\n",
    "        if 0 <= nx < R and 0 <= ny < C and grid[nx][ny] != \"#\" and (nx, ny) not in visited:\n",
    "            q.append((nx, ny))\n",
    "            visited.add((nx, ny))\n",
    "            dists[(nx, ny)] = dists[(x, y)] + 1\n",
    "\n",
    "time_taken = len(visited)-1\n",
    "time_taken"
   ]
  },
  {
   "cell_type": "code",
   "execution_count": null,
   "metadata": {},
   "outputs": [],
   "source": [
    "from collections import Counter\n",
    "\n",
    "time_saved = []\n",
    "for x in range(1, R-1):\n",
    "    for y in range(1, C-1):\n",
    "        if grid[x][y] == '#':\n",
    "            if grid[x-1][y] == '.' and grid[x+1][y] == '.':\n",
    "                time_saved.append(abs(dists[(x-1, y)] - dists[(x+1, y)])-2)\n",
    "            if grid[x][y-1] == '.' and grid[x][y+1] == '.':\n",
    "                time_saved.append(abs(dists[(x, y-1)] - dists[(x, y+1)])-2)\n",
    "\n",
    "best_cheats = 0\n",
    "for time_saved, cheats in Counter(time_saved).items():\n",
    "    if time_saved >= 100:\n",
    "        best_cheats += cheats\n",
    "\n",
    "best_cheats"
   ]
  },
  {
   "cell_type": "markdown",
   "metadata": {},
   "source": [
    "# Part 2"
   ]
  },
  {
   "cell_type": "code",
   "execution_count": null,
   "metadata": {},
   "outputs": [],
   "source": [
    "p2 = 0\n",
    "p1 = 0\n",
    "\n",
    "for dx in range(-20, 21):\n",
    "    for dy in range(-20, 21):\n",
    "        cheat = abs(dx)+abs(dy)\n",
    "        if cheat < 2 or cheat > 20:\n",
    "            continue\n",
    "        for sx, sy in dists:\n",
    "            if (sx+dx, sy+dy) in dists and dists[(sx+dx, sy+dy)]-dists[(sx, sy)]-cheat >= 100:\n",
    "                if cheat == 2:\n",
    "                    p1 += 1\n",
    "                p2 += 1\n",
    "print(p1)\n",
    "print(p2)"
   ]
  }
 ],
 "metadata": {
  "kernelspec": {
   "display_name": "Python 3",
   "language": "python",
   "name": "python3"
  },
  "language_info": {
   "codemirror_mode": {
    "name": "ipython",
    "version": 3
   },
   "file_extension": ".py",
   "mimetype": "text/x-python",
   "name": "python",
   "nbconvert_exporter": "python",
   "pygments_lexer": "ipython3",
   "version": "3.10.16"
  }
 },
 "nbformat": 4,
 "nbformat_minor": 2
}
