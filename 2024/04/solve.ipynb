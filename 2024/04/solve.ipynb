{
 "cells": [
  {
   "cell_type": "markdown",
   "metadata": {},
   "source": [
    "# Part 1"
   ]
  },
  {
   "cell_type": "code",
   "execution_count": 11,
   "metadata": {},
   "outputs": [],
   "source": [
    "grid = []\n",
    "\n",
    "with open('input.txt', 'r') as f:\n",
    "    for line in f.read().splitlines():\n",
    "      grid.append(list(line))\n"
   ]
  },
  {
   "cell_type": "code",
   "execution_count": 12,
   "metadata": {},
   "outputs": [
    {
     "data": {
      "text/plain": [
       "2685"
      ]
     },
     "execution_count": 12,
     "metadata": {},
     "output_type": "execute_result"
    }
   ],
   "source": [
    "R, C = len(grid), len(grid[0])\n",
    "xmax = \"XMAS\"\n",
    "count = 0\n",
    "\n",
    "def dfs(i, r, c, path, dir):\n",
    "  global count\n",
    "  if r < 0 or r >= R or c < 0 or c >= C:\n",
    "        return\n",
    "\n",
    "  if i == 3:\n",
    "    if grid[r][c] == xmax[i]:\n",
    "      count+=1\n",
    "    return\n",
    "\n",
    "  if grid[r][c] != xmax[i]:\n",
    "     return\n",
    "\n",
    "  if dir == \"LR\":\n",
    "     dfs(i+1, r, c+1, path+[(r, c)], dir)\n",
    "  elif dir == \"RL\":\n",
    "      dfs(i+1, r, c-1, path+[(r, c)], dir)\n",
    "  elif dir == \"UD\":\n",
    "     dfs(i+1, r+1, c, path+[(r, c)], dir)\n",
    "  elif dir == \"DU\":\n",
    "    dfs(i+1, r-1, c, path+[(r, c)], dir)\n",
    "  elif dir == \"D1\":\n",
    "      dfs(i+1, r+1, c+1, path+[(r, c)], dir)\n",
    "  elif dir == \"D2\":\n",
    "      dfs(i+1, r+1, c-1, path+[(r, c)], dir)\n",
    "  elif dir == \"D3\":\n",
    "      dfs(i+1, r-1, c+1, path+[(r, c)], dir)\n",
    "  elif dir == \"D4\":\n",
    "      dfs(i+1, r-1, c-1, path+[(r, c)], dir)\n",
    "  else:\n",
    "     raise Exception(\"invalid direction\")\n",
    "\n",
    "\n",
    "for r in range(R):\n",
    "  for c in range(C):\n",
    "    if grid[r][c] == 'X':\n",
    "      for dir in [\"LR\", \"RL\", \"UD\", \"DU\", \"D1\", \"D2\", \"D3\", \"D4\"]:\n",
    "        dfs(0, r, c, [], dir)\n",
    "\n",
    "count"
   ]
  },
  {
   "cell_type": "markdown",
   "metadata": {},
   "source": [
    "# Part 2"
   ]
  },
  {
   "cell_type": "code",
   "execution_count": 13,
   "metadata": {},
   "outputs": [
    {
     "data": {
      "text/plain": [
       "2048"
      ]
     },
     "execution_count": 13,
     "metadata": {},
     "output_type": "execute_result"
    }
   ],
   "source": [
    "count = 0\n",
    "\n",
    "def part2(r, c):\n",
    "  if r -1 < 0 or r + 1 >= R:\n",
    "    return False\n",
    "\n",
    "  if c - 1 < 0 or c + 1 >= C:\n",
    "    return False\n",
    "\n",
    "  c1 = grid[r-1][c-1] == 'M' and grid[r-1][c+1] == 'M' and grid[r+1][c-1] == 'S' and grid[r+1][c+1] == 'S'\n",
    "  c2 = grid[r-1][c-1] == 'S' and grid[r-1][c+1] == 'S' and grid[r+1][c-1] == 'M' and grid[r+1][c+1] == 'M'\n",
    "  c3 = grid[r-1][c-1] == 'S' and grid[r-1][c+1] == 'M' and grid[r+1][c-1] == 'S' and grid[r+1][c+1] == 'M'\n",
    "  c4 = grid[r-1][c-1] == 'M' and grid[r-1][c+1] == 'S' and grid[r+1][c-1] == 'M' and grid[r+1][c+1] == 'S'\n",
    "  return c1 | c2 | c3 | c4\n",
    "\n",
    "for r in range(R):\n",
    "  for c in range(C):\n",
    "    if grid[r][c] == 'A':\n",
    "      if part2(r, c):\n",
    "        count+=1\n",
    "\n",
    "count"
   ]
  }
 ],
 "metadata": {
  "kernelspec": {
   "display_name": "Python 3",
   "language": "python",
   "name": "python3"
  },
  "language_info": {
   "codemirror_mode": {
    "name": "ipython",
    "version": 3
   },
   "file_extension": ".py",
   "mimetype": "text/x-python",
   "name": "python",
   "nbconvert_exporter": "python",
   "pygments_lexer": "ipython3",
   "version": "3.10.12"
  }
 },
 "nbformat": 4,
 "nbformat_minor": 2
}
