{
 "cells": [
  {
   "cell_type": "markdown",
   "metadata": {},
   "source": [
    "# Part 1"
   ]
  },
  {
   "cell_type": "code",
   "execution_count": null,
   "metadata": {},
   "outputs": [],
   "source": [
    "grid = []\n",
    "\n",
    "with open(\"input.txt\") as f:\n",
    "  for line in f.read().splitlines():\n",
    "    grid.append(list(line))\n",
    "\n",
    "grid"
   ]
  },
  {
   "cell_type": "code",
   "execution_count": null,
   "metadata": {},
   "outputs": [],
   "source": [
    "R, C = len(grid), len(grid[0])\n",
    "\n",
    "from collections import defaultdict\n",
    "\n",
    "antennas = defaultdict(list)\n",
    "\n",
    "for r in range(R):\n",
    "  for c in range(C):\n",
    "        if grid[r][c] != '.':\n",
    "          antennas[grid[r][c]].append((r, c))"
   ]
  },
  {
   "cell_type": "code",
   "execution_count": null,
   "metadata": {},
   "outputs": [],
   "source": [
    "antinodes = set()\n",
    "\n",
    "def in_bounds(x, y):\n",
    "  return 0 <= x < R and 0 <= y < C\n",
    "\n",
    "for ant, freqs in antennas.items():\n",
    "  for i in range(len(freqs)):\n",
    "    for j in range(i+1, len(freqs)):\n",
    "      x1, y1 = freqs[i]\n",
    "      x2, y2 = freqs[j]\n",
    "\n",
    "      nx, ny = 2*x1 - x2, 2*y1 - y2\n",
    "      if in_bounds(nx, ny):\n",
    "        antinodes.add((nx, ny))\n",
    "\n",
    "      nx, ny = 2*x2 - x1, 2*y2 - y1\n",
    "      if in_bounds(nx, ny):\n",
    "        antinodes.add((nx, ny))\n",
    "\n",
    "len(antinodes)"
   ]
  },
  {
   "cell_type": "markdown",
   "metadata": {},
   "source": [
    "# Part 2"
   ]
  },
  {
   "cell_type": "code",
   "execution_count": null,
   "metadata": {},
   "outputs": [],
   "source": [
    "antinodes = set()\n",
    "\n",
    "def in_bounds(x, y):\n",
    "  return 0 <= x < R and 0 <= y < C\n",
    "\n",
    "for ant, freqs in antennas.items():\n",
    "  for i in range(len(freqs)):\n",
    "    for j in range(i+1, len(freqs)):\n",
    "      x1, y1 = freqs[i]\n",
    "      x2, y2 = freqs[j]\n",
    "\n",
    "      dx, dy = x2-x1, y2-y1\n",
    "      v = 0\n",
    "      while in_bounds(x1 + dx*v, y1 + dy*v):\n",
    "        antinodes.add((x1 + dx*v, y1 + dy*v))\n",
    "        v += 1\n",
    "\n",
    "      dx, dy = x1-x2, y1-y2\n",
    "      v = 0\n",
    "      while in_bounds(x1 + dx*v, y1 + dy*v):\n",
    "        antinodes.add((x1 + dx*v, y1 + dy*v))\n",
    "        v += 1\n",
    "\n",
    "len(antinodes)"
   ]
  }
 ],
 "metadata": {
  "kernelspec": {
   "display_name": "Python 3",
   "language": "python",
   "name": "python3"
  },
  "language_info": {
   "codemirror_mode": {
    "name": "ipython",
    "version": 3
   },
   "file_extension": ".py",
   "mimetype": "text/x-python",
   "name": "python",
   "nbconvert_exporter": "python",
   "pygments_lexer": "ipython3",
   "version": "3.10.16"
  }
 },
 "nbformat": 4,
 "nbformat_minor": 2
}
