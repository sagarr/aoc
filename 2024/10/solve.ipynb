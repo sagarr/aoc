{
 "cells": [
  {
   "cell_type": "markdown",
   "metadata": {},
   "source": [
    "# Part 1\n"
   ]
  },
  {
   "cell_type": "code",
   "execution_count": null,
   "metadata": {},
   "outputs": [],
   "source": [
    "grid = []\n",
    "\n",
    "with open('input.txt', 'r') as f:\n",
    "  for line in f.read().splitlines():\n",
    "    grid.append([int(x) for x in line])\n",
    "\n",
    "R, C = len(grid), len(grid[0])"
   ]
  },
  {
   "cell_type": "code",
   "execution_count": null,
   "metadata": {},
   "outputs": [],
   "source": [
    "# bfs\n",
    "from collections import deque\n",
    "\n",
    "q = deque() # (r, c, path)\n",
    "for i in range(R):\n",
    "  for j in range(C):\n",
    "    if grid[i][j] == 0:\n",
    "      q.append((i, j, set([(i, j)])))\n",
    "\n",
    "total = 0\n",
    "\n",
    "while q:\n",
    "  r, c, path = q.popleft()\n",
    "\n",
    "  curr_val = grid[r][c]\n",
    "  if curr_val == 9:\n",
    "    total+=1\n",
    "    continue\n",
    "\n",
    "  for dx, dy in [(0, 1), (0, -1), (1, 0), (-1, 0)]:\n",
    "    new_r, new_c = r+dx, c+dy\n",
    "    if 0 <= new_r < R and 0 <= new_c < C and grid[new_r][new_c] == curr_val+1 and (new_r, new_c) not in path:\n",
    "      path.add((new_r, new_c))\n",
    "      q.append((new_r, new_c, path))\n",
    "\n",
    "total"
   ]
  },
  {
   "cell_type": "markdown",
   "metadata": {},
   "source": [
    "# Part 2"
   ]
  },
  {
   "cell_type": "code",
   "execution_count": null,
   "metadata": {},
   "outputs": [],
   "source": [
    "# bfs\n",
    "from collections import deque\n",
    "\n",
    "q = deque() # (r, c, path)\n",
    "for i in range(R):\n",
    "  for j in range(C):\n",
    "    if grid[i][j] == 0:\n",
    "      q.append((i, j, set([(i, j)])))\n",
    "\n",
    "total = 0\n",
    "\n",
    "while q:\n",
    "  r, c, path = q.popleft()\n",
    "\n",
    "  curr_val = grid[r][c]\n",
    "  if curr_val == 9:\n",
    "    total+=1\n",
    "    continue\n",
    "\n",
    "  for dx, dy in [(0, 1), (0, -1), (1, 0), (-1, 0)]:\n",
    "    new_r, new_c = r+dx, c+dy\n",
    "    if 0 <= new_r < R and 0 <= new_c < C and grid[new_r][new_c] == curr_val+1:\n",
    "      path.add((new_r, new_c))\n",
    "      q.append((new_r, new_c, path))\n",
    "\n",
    "total"
   ]
  }
 ],
 "metadata": {
  "kernelspec": {
   "display_name": "Python 3",
   "language": "python",
   "name": "python3"
  },
  "language_info": {
   "codemirror_mode": {
    "name": "ipython",
    "version": 3
   },
   "file_extension": ".py",
   "mimetype": "text/x-python",
   "name": "python",
   "nbconvert_exporter": "python",
   "pygments_lexer": "ipython3",
   "version": "3.10.16"
  }
 },
 "nbformat": 4,
 "nbformat_minor": 2
}
