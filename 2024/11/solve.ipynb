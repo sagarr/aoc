{
 "cells": [
  {
   "cell_type": "markdown",
   "metadata": {},
   "source": [
    "# Part 1"
   ]
  },
  {
   "cell_type": "code",
   "execution_count": null,
   "metadata": {},
   "outputs": [],
   "source": [
    "stones = []\n",
    "\n",
    "with open(\"input.txt\") as f:\n",
    "    data = f.read().rstrip()\n",
    "    stones = [int(x) for x in data.split()]\n",
    "\n",
    "print(stones)"
   ]
  },
  {
   "cell_type": "code",
   "execution_count": null,
   "metadata": {},
   "outputs": [],
   "source": [
    "# brute force\n",
    "\n",
    "next_stones = []\n",
    "\n",
    "def get_next_stones(stone):\n",
    "  next_stones = []\n",
    "\n",
    "  if stone == 0:\n",
    "    next_stones.append(1)\n",
    "  elif len(str(stone)) % 2 == 0:\n",
    "    l, r = str(stone)[:len(str(stone))//2], str(stone)[len(str(stone))//2:]\n",
    "    next_stones.append(int(l))\n",
    "    next_stones.append(int(r))\n",
    "  else:\n",
    "    next_stones.append(stone*2024)\n",
    "\n",
    "  return next_stones\n",
    "\n",
    "for _ in range(25):\n",
    "  next_stones = []\n",
    "\n",
    "  for i in range(len(stones)):\n",
    "   next_stones += get_next_stones(stones[i])\n",
    "\n",
    "  stones = next_stones\n",
    "\n",
    "print(len(next_stones))"
   ]
  },
  {
   "cell_type": "markdown",
   "metadata": {},
   "source": [
    "# Part 2"
   ]
  },
  {
   "cell_type": "code",
   "execution_count": null,
   "metadata": {},
   "outputs": [],
   "source": [
    "# brute force didnt work for 75 iteration, instead expand each stone 75 times and cache the result\n",
    "total = 0\n",
    "\n",
    "from functools import cache\n",
    "\n",
    "@cache\n",
    "def recur(stone, blink):\n",
    "  if blink == 0:\n",
    "    return 1\n",
    "\n",
    "  res = 0\n",
    "  if stone == 0:\n",
    "    res+=recur(1, blink-1)\n",
    "  elif len(str(stone)) % 2 == 0:\n",
    "    l, r = str(stone)[:len(str(stone))//2], str(stone)[len(str(stone))//2:]\n",
    "    res+=recur(int(l), blink-1)\n",
    "    res+=recur(int(r), blink-1)\n",
    "  else:\n",
    "    res+=recur(stone*2024, blink-1)\n",
    "  return res\n",
    "\n",
    "for stone in stones:\n",
    "  total+=recur(stone, 75)\n",
    "\n",
    "total"
   ]
  }
 ],
 "metadata": {
  "kernelspec": {
   "display_name": "Python 3",
   "language": "python",
   "name": "python3"
  },
  "language_info": {
   "codemirror_mode": {
    "name": "ipython",
    "version": 3
   },
   "file_extension": ".py",
   "mimetype": "text/x-python",
   "name": "python",
   "nbconvert_exporter": "python",
   "pygments_lexer": "ipython3",
   "version": "3.10.16"
  }
 },
 "nbformat": 4,
 "nbformat_minor": 2
}
