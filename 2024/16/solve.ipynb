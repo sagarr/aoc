{
 "cells": [
  {
   "cell_type": "markdown",
   "metadata": {},
   "source": [
    "# Part 1"
   ]
  },
  {
   "cell_type": "code",
   "execution_count": 198,
   "metadata": {},
   "outputs": [],
   "source": [
    "grid = []\n",
    "\n",
    "with open('input.txt') as f:\n",
    "  for line in f.readlines():\n",
    "    grid.append(list(line.strip()))\n",
    "\n",
    "R, C = len(grid), len(grid[0])"
   ]
  },
  {
   "cell_type": "code",
   "execution_count": null,
   "metadata": {},
   "outputs": [],
   "source": [
    "def start_pos():\n",
    "  for r in range(R):\n",
    "    for c in range(C):\n",
    "      if grid[r][c] == 'S':\n",
    "        return r, c\n",
    "\n",
    "sx, sy = start_pos()\n",
    "sx, sy"
   ]
  },
  {
   "cell_type": "code",
   "execution_count": null,
   "metadata": {},
   "outputs": [],
   "source": [
    "import heapq\n",
    "\n",
    "heap = [(0, sx, sy, (0, 1))] # score, x, y, direction\n",
    "visited = set([(sx, sy)])\n",
    "\n",
    "while heap:\n",
    "  score, x, y, direction = heapq.heappop(heap)\n",
    "\n",
    "  if grid[x][y] == \"E\":\n",
    "    print(score)\n",
    "    break\n",
    "\n",
    "  for dx, dy in [(0, 1), (0, -1), (-1, 0), (1, 0)]:\n",
    "    nx, ny = x + dx, y + dy\n",
    "\n",
    "    if grid[nx][ny] == \"#\":\n",
    "      continue\n",
    "\n",
    "    if (nx, ny) in visited:\n",
    "      continue\n",
    "    visited.add((nx, ny))\n",
    "\n",
    "    if (dx, dy) == direction:\n",
    "      heapq.heappush(heap, (score+1, nx, ny, (dx, dy)))\n",
    "    else:\n",
    "      heapq.heappush(heap, (score+1001, nx, ny, (dx, dy)))\n"
   ]
  },
  {
   "cell_type": "markdown",
   "metadata": {},
   "source": [
    "# Part 2"
   ]
  },
  {
   "cell_type": "code",
   "execution_count": null,
   "metadata": {},
   "outputs": [],
   "source": [
    "from collections import deque\n",
    "\n",
    "q = deque([(0, sx, sy, (0, 1), set())]) # score, x, y, direction, path\n",
    "\n",
    "scores = {}\n",
    "min_paths = set()\n",
    "min_score = float('inf')\n",
    "\n",
    "while q:\n",
    "  score, x, y, direction, path = q.popleft()\n",
    "  if score > min_score:\n",
    "    continue\n",
    "\n",
    "  if score > scores.get((direction, x, y), float('inf')):\n",
    "    continue\n",
    "\n",
    "  scores[(direction, x, y)] = score\n",
    "\n",
    "  if grid[x][y] == \"E\":\n",
    "    if score < min_score:\n",
    "      min_score = score\n",
    "      min_paths = set(path)\n",
    "    elif score == min_score:\n",
    "      min_paths |= path\n",
    "    continue\n",
    "\n",
    "  for dx, dy in [(0, 1), (0, -1), (-1, 0), (1, 0)]:\n",
    "    nx, ny = x + dx, y + dy\n",
    "\n",
    "    if grid[nx][ny] == \"#\":\n",
    "      continue\n",
    "\n",
    "    if (nx, ny) in path:\n",
    "      continue\n",
    "\n",
    "    path2 = path.copy()\n",
    "    path2.add((nx, ny))\n",
    "\n",
    "    if (dx, dy) == direction:\n",
    "      q.append((score+1, nx, ny, (dx, dy), path2))\n",
    "    else:\n",
    "      q.append((score+1001, nx, ny, (dx, dy), path2))\n",
    "\n",
    "print(min_score, len(min_paths)+1)"
   ]
  }
 ],
 "metadata": {
  "kernelspec": {
   "display_name": "Python 3",
   "language": "python",
   "name": "python3"
  },
  "language_info": {
   "codemirror_mode": {
    "name": "ipython",
    "version": 3
   },
   "file_extension": ".py",
   "mimetype": "text/x-python",
   "name": "python",
   "nbconvert_exporter": "python",
   "pygments_lexer": "ipython3",
   "version": "3.10.16"
  }
 },
 "nbformat": 4,
 "nbformat_minor": 2
}
