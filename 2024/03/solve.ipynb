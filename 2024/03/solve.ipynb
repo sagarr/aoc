{
 "cells": [
  {
   "cell_type": "markdown",
   "metadata": {},
   "source": [
    "# Part 1"
   ]
  },
  {
   "cell_type": "code",
   "execution_count": 27,
   "metadata": {},
   "outputs": [
    {
     "data": {
      "text/plain": [
       "165225049"
      ]
     },
     "execution_count": 27,
     "metadata": {},
     "output_type": "execute_result"
    }
   ],
   "source": [
    "import re\n",
    "\n",
    "total = 0\n",
    "with open('input.txt', 'r') as f:\n",
    "    lines = f.read().splitlines()\n",
    "    for txt in lines:\n",
    "      for x, y in re.findall(r'mul\\((\\d+),(\\d+)\\)', txt):\n",
    "        real_mul = int(x) * int(y)\n",
    "        total += real_mul\n",
    "total"
   ]
  },
  {
   "cell_type": "markdown",
   "metadata": {},
   "source": [
    "# Part 2"
   ]
  },
  {
   "cell_type": "code",
   "execution_count": null,
   "metadata": {},
   "outputs": [
    {
     "data": {
      "text/plain": [
       "108830766"
      ]
     },
     "execution_count": 26,
     "metadata": {},
     "output_type": "execute_result"
    }
   ],
   "source": [
    "def remove(txt):\n",
    "  tmp = \"\"\n",
    "  i = 0\n",
    "\n",
    "  while i < len(txt):\n",
    "      tmp+=txt[i]\n",
    "      if txt[i:i+7] == \"don't()\":\n",
    "          i += 7\n",
    "          j = i\n",
    "          while j < len(txt):\n",
    "              if txt[j:j+4] == \"do()\":\n",
    "                  i = j\n",
    "                  break\n",
    "              j += 1\n",
    "      i += 1\n",
    "  return tmp\n",
    "\n",
    "\n",
    "total = 0\n",
    "\n",
    "with open('input.txt', 'r') as f:\n",
    "    text = f.read()\n",
    "    txt = remove(text)\n",
    "\n",
    "    for x, y in re.findall(r'mul\\((\\d+),(\\d+)\\)', txt):\n",
    "      real_mul = int(x) * int(y)\n",
    "      total += real_mul\n",
    "\n",
    "total"
   ]
  }
 ],
 "metadata": {
  "kernelspec": {
   "display_name": "Python 3",
   "language": "python",
   "name": "python3"
  },
  "language_info": {
   "codemirror_mode": {
    "name": "ipython",
    "version": 3
   },
   "file_extension": ".py",
   "mimetype": "text/x-python",
   "name": "python",
   "nbconvert_exporter": "python",
   "pygments_lexer": "ipython3",
   "version": "3.10.12"
  }
 },
 "nbformat": 4,
 "nbformat_minor": 2
}
