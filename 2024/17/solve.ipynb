{
 "cells": [
  {
   "cell_type": "markdown",
   "metadata": {},
   "source": [
    "# Part 1"
   ]
  },
  {
   "cell_type": "code",
   "execution_count": 75,
   "metadata": {},
   "outputs": [],
   "source": [
    "with open('input.txt') as f:\n",
    "    data = f.read()\n",
    "    registers, program = data.split('\\n\\n')\n",
    "    registers = {x.split(': ')[0].removeprefix('Register '): int(x.split(': ')[1]) for x in registers.split('\\n')}\n",
    "    program = list(map(int, program.removeprefix('Program: ').strip().split(',')))"
   ]
  },
  {
   "cell_type": "code",
   "execution_count": null,
   "metadata": {},
   "outputs": [],
   "source": [
    "def get_combo(oper, rega, regb, regc):\n",
    "    if 0 <= oper <= 3:\n",
    "        return oper\n",
    "    if oper == 4:\n",
    "        return rega\n",
    "    if oper == 5:\n",
    "        return regb\n",
    "    if oper == 6:\n",
    "        return regc\n",
    "\n",
    "def run(prog, rega, regb, regc):\n",
    "    ip = 0\n",
    "    out = []\n",
    "    while ip < len(prog):\n",
    "        oper = prog[ip+1]\n",
    "        combo = get_combo(oper, rega, regb, regc)\n",
    "        match prog[ip]:\n",
    "            case 0:\n",
    "                rega //= 2**combo\n",
    "            case 1:\n",
    "                regb ^= oper\n",
    "            case 2:\n",
    "                regb = combo%8\n",
    "            case 3:\n",
    "                if rega:\n",
    "                    ip = oper\n",
    "                    continue\n",
    "            case 4:\n",
    "                regb ^= regc\n",
    "            case 5:\n",
    "                out.append(combo%8)\n",
    "            case 6:\n",
    "                regb = rega//2**combo\n",
    "            case 7:\n",
    "                regc = rega//2**combo\n",
    "        ip += 2\n",
    "    return out\n",
    "\n",
    "rega, regb, regc = registers['A'], registers['B'], registers['C']\n",
    "print(','.join(map(str, run(program, rega, regb, regc))))"
   ]
  },
  {
   "cell_type": "markdown",
   "metadata": {},
   "source": [
    "# Part 2"
   ]
  },
  {
   "cell_type": "code",
   "execution_count": null,
   "metadata": {},
   "outputs": [],
   "source": [
    "rega = 0\n",
    "j = 1\n",
    "istart = 0\n",
    "while j <= len(program) and j >= 0:\n",
    "    rega <<= 3\n",
    "    for i in range(istart, 8):\n",
    "        if program[-j:] == run(program, rega+i, regb, regc):\n",
    "            break\n",
    "    else:\n",
    "        j -= 1\n",
    "        rega >>= 3\n",
    "        istart = rega%8+1\n",
    "        rega >>= 3\n",
    "        continue\n",
    "    j += 1\n",
    "    rega += i\n",
    "    istart = 0\n",
    "print(rega)"
   ]
  }
 ],
 "metadata": {
  "kernelspec": {
   "display_name": "Python 3",
   "language": "python",
   "name": "python3"
  },
  "language_info": {
   "codemirror_mode": {
    "name": "ipython",
    "version": 3
   },
   "file_extension": ".py",
   "mimetype": "text/x-python",
   "name": "python",
   "nbconvert_exporter": "python",
   "pygments_lexer": "ipython3",
   "version": "3.10.16"
  }
 },
 "nbformat": 4,
 "nbformat_minor": 2
}
