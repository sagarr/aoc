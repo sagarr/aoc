{
 "cells": [
  {
   "cell_type": "markdown",
   "metadata": {},
   "source": [
    "# Part 1"
   ]
  },
  {
   "cell_type": "code",
   "execution_count": null,
   "metadata": {},
   "outputs": [],
   "source": [
    "with open(\"input.txt\") as f:\n",
    "    patterns, designs = f.read().split(\"\\n\\n\")\n",
    "\n",
    "patterns = set([x.strip() for x in patterns.split(\",\")])\n",
    "print(patterns)\n",
    "\n",
    "designs = [x for x in designs.strip().split(\"\\n\")]\n",
    "print(designs)"
   ]
  },
  {
   "cell_type": "code",
   "execution_count": null,
   "metadata": {},
   "outputs": [],
   "source": [
    "from functools import cache\n",
    "\n",
    "@cache\n",
    "def dp(design):\n",
    "    if not design:\n",
    "        return True\n",
    "\n",
    "    for pattern in patterns:\n",
    "        if design.startswith(pattern):\n",
    "            pattern_len = len(pattern)\n",
    "            if dp(design[pattern_len:]):\n",
    "                return True\n",
    "\n",
    "    return False\n",
    "\n",
    "sum(dp(design) for design in designs)"
   ]
  },
  {
   "cell_type": "markdown",
   "metadata": {},
   "source": [
    "# Part 2"
   ]
  },
  {
   "cell_type": "code",
   "execution_count": null,
   "metadata": {},
   "outputs": [],
   "source": [
    "from functools import cache\n",
    "\n",
    "@cache\n",
    "def dp(design):\n",
    "    if not design:\n",
    "        return 1\n",
    "\n",
    "    ways = 0\n",
    "    for pattern in patterns:\n",
    "        if design.startswith(pattern):\n",
    "            pattern_len = len(pattern)\n",
    "            ways += dp(design[pattern_len:])\n",
    "\n",
    "    return ways\n",
    "\n",
    "sum(dp(design) for design in designs)"
   ]
  }
 ],
 "metadata": {
  "kernelspec": {
   "display_name": "Python 3",
   "language": "python",
   "name": "python3"
  },
  "language_info": {
   "codemirror_mode": {
    "name": "ipython",
    "version": 3
   },
   "file_extension": ".py",
   "mimetype": "text/x-python",
   "name": "python",
   "nbconvert_exporter": "python",
   "pygments_lexer": "ipython3",
   "version": "3.10.16"
  }
 },
 "nbformat": 4,
 "nbformat_minor": 2
}
